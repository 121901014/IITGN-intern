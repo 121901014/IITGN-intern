{
  "nbformat": 4,
  "nbformat_minor": 0,
  "metadata": {
    "colab": {
      "name": "Qn2.ipynb",
      "provenance": [],
      "collapsed_sections": []
    },
    "kernelspec": {
      "name": "python3",
      "display_name": "Python 3"
    },
    "language_info": {
      "name": "python"
    },
    "widgets": {
      "application/vnd.jupyter.widget-state+json": {
        "c5dad66be3c44b718af20c8d13a9d229": {
          "model_module": "@jupyter-widgets/controls",
          "model_name": "FloatSliderModel",
          "model_module_version": "1.5.0",
          "state": {
            "_dom_classes": [],
            "_model_module": "@jupyter-widgets/controls",
            "_model_module_version": "1.5.0",
            "_model_name": "FloatSliderModel",
            "_view_count": null,
            "_view_module": "@jupyter-widgets/controls",
            "_view_module_version": "1.5.0",
            "_view_name": "FloatSliderView",
            "continuous_update": true,
            "description": "Cxx",
            "description_tooltip": null,
            "disabled": false,
            "layout": "IPY_MODEL_7a3c756486954685b9445c6cb31548b4",
            "max": 4,
            "min": 0,
            "orientation": "horizontal",
            "readout": true,
            "readout_format": ".2f",
            "step": 0.1,
            "style": "IPY_MODEL_99e70b564fb8485fb93dab6b036a8bf3",
            "value": 1
          }
        },
        "7a3c756486954685b9445c6cb31548b4": {
          "model_module": "@jupyter-widgets/base",
          "model_name": "LayoutModel",
          "model_module_version": "1.2.0",
          "state": {
            "_model_module": "@jupyter-widgets/base",
            "_model_module_version": "1.2.0",
            "_model_name": "LayoutModel",
            "_view_count": null,
            "_view_module": "@jupyter-widgets/base",
            "_view_module_version": "1.2.0",
            "_view_name": "LayoutView",
            "align_content": null,
            "align_items": null,
            "align_self": null,
            "border": null,
            "bottom": null,
            "display": null,
            "flex": null,
            "flex_flow": null,
            "grid_area": null,
            "grid_auto_columns": null,
            "grid_auto_flow": null,
            "grid_auto_rows": null,
            "grid_column": null,
            "grid_gap": null,
            "grid_row": null,
            "grid_template_areas": null,
            "grid_template_columns": null,
            "grid_template_rows": null,
            "height": null,
            "justify_content": null,
            "justify_items": null,
            "left": null,
            "margin": null,
            "max_height": null,
            "max_width": null,
            "min_height": null,
            "min_width": null,
            "object_fit": null,
            "object_position": null,
            "order": null,
            "overflow": null,
            "overflow_x": null,
            "overflow_y": null,
            "padding": null,
            "right": null,
            "top": null,
            "visibility": null,
            "width": null
          }
        },
        "99e70b564fb8485fb93dab6b036a8bf3": {
          "model_module": "@jupyter-widgets/controls",
          "model_name": "SliderStyleModel",
          "model_module_version": "1.5.0",
          "state": {
            "_model_module": "@jupyter-widgets/controls",
            "_model_module_version": "1.5.0",
            "_model_name": "SliderStyleModel",
            "_view_count": null,
            "_view_module": "@jupyter-widgets/base",
            "_view_module_version": "1.2.0",
            "_view_name": "StyleView",
            "description_width": "",
            "handle_color": null
          }
        },
        "5d14f13fd9db4458ad1d155c1ab9e7cb": {
          "model_module": "@jupyter-widgets/controls",
          "model_name": "FloatSliderModel",
          "model_module_version": "1.5.0",
          "state": {
            "_dom_classes": [],
            "_model_module": "@jupyter-widgets/controls",
            "_model_module_version": "1.5.0",
            "_model_name": "FloatSliderModel",
            "_view_count": null,
            "_view_module": "@jupyter-widgets/controls",
            "_view_module_version": "1.5.0",
            "_view_name": "FloatSliderView",
            "continuous_update": true,
            "description": "Cxy",
            "description_tooltip": null,
            "disabled": false,
            "layout": "IPY_MODEL_9eafb3d03b2b4dc28432dede54bc04db",
            "max": 1,
            "min": -1,
            "orientation": "horizontal",
            "readout": true,
            "readout_format": ".2f",
            "step": 0.1,
            "style": "IPY_MODEL_98cd66c24e63473ba3680e8b64e407da",
            "value": 0
          }
        },
        "9eafb3d03b2b4dc28432dede54bc04db": {
          "model_module": "@jupyter-widgets/base",
          "model_name": "LayoutModel",
          "model_module_version": "1.2.0",
          "state": {
            "_model_module": "@jupyter-widgets/base",
            "_model_module_version": "1.2.0",
            "_model_name": "LayoutModel",
            "_view_count": null,
            "_view_module": "@jupyter-widgets/base",
            "_view_module_version": "1.2.0",
            "_view_name": "LayoutView",
            "align_content": null,
            "align_items": null,
            "align_self": null,
            "border": null,
            "bottom": null,
            "display": null,
            "flex": null,
            "flex_flow": null,
            "grid_area": null,
            "grid_auto_columns": null,
            "grid_auto_flow": null,
            "grid_auto_rows": null,
            "grid_column": null,
            "grid_gap": null,
            "grid_row": null,
            "grid_template_areas": null,
            "grid_template_columns": null,
            "grid_template_rows": null,
            "height": null,
            "justify_content": null,
            "justify_items": null,
            "left": null,
            "margin": null,
            "max_height": null,
            "max_width": null,
            "min_height": null,
            "min_width": null,
            "object_fit": null,
            "object_position": null,
            "order": null,
            "overflow": null,
            "overflow_x": null,
            "overflow_y": null,
            "padding": null,
            "right": null,
            "top": null,
            "visibility": null,
            "width": null
          }
        },
        "98cd66c24e63473ba3680e8b64e407da": {
          "model_module": "@jupyter-widgets/controls",
          "model_name": "SliderStyleModel",
          "model_module_version": "1.5.0",
          "state": {
            "_model_module": "@jupyter-widgets/controls",
            "_model_module_version": "1.5.0",
            "_model_name": "SliderStyleModel",
            "_view_count": null,
            "_view_module": "@jupyter-widgets/base",
            "_view_module_version": "1.2.0",
            "_view_name": "StyleView",
            "description_width": "",
            "handle_color": null
          }
        },
        "078d058024914fdfae9720f3c31f4ef1": {
          "model_module": "@jupyter-widgets/controls",
          "model_name": "FloatSliderModel",
          "model_module_version": "1.5.0",
          "state": {
            "_dom_classes": [],
            "_model_module": "@jupyter-widgets/controls",
            "_model_module_version": "1.5.0",
            "_model_name": "FloatSliderModel",
            "_view_count": null,
            "_view_module": "@jupyter-widgets/controls",
            "_view_module_version": "1.5.0",
            "_view_name": "FloatSliderView",
            "continuous_update": true,
            "description": "Cyy",
            "description_tooltip": null,
            "disabled": false,
            "layout": "IPY_MODEL_bf904bb845cb4b02a4e09d0df5536257",
            "max": 4,
            "min": 0,
            "orientation": "horizontal",
            "readout": true,
            "readout_format": ".2f",
            "step": 0.1,
            "style": "IPY_MODEL_c1d86b4392874b288e7166c5be88ff29",
            "value": 1
          }
        },
        "bf904bb845cb4b02a4e09d0df5536257": {
          "model_module": "@jupyter-widgets/base",
          "model_name": "LayoutModel",
          "model_module_version": "1.2.0",
          "state": {
            "_model_module": "@jupyter-widgets/base",
            "_model_module_version": "1.2.0",
            "_model_name": "LayoutModel",
            "_view_count": null,
            "_view_module": "@jupyter-widgets/base",
            "_view_module_version": "1.2.0",
            "_view_name": "LayoutView",
            "align_content": null,
            "align_items": null,
            "align_self": null,
            "border": null,
            "bottom": null,
            "display": null,
            "flex": null,
            "flex_flow": null,
            "grid_area": null,
            "grid_auto_columns": null,
            "grid_auto_flow": null,
            "grid_auto_rows": null,
            "grid_column": null,
            "grid_gap": null,
            "grid_row": null,
            "grid_template_areas": null,
            "grid_template_columns": null,
            "grid_template_rows": null,
            "height": null,
            "justify_content": null,
            "justify_items": null,
            "left": null,
            "margin": null,
            "max_height": null,
            "max_width": null,
            "min_height": null,
            "min_width": null,
            "object_fit": null,
            "object_position": null,
            "order": null,
            "overflow": null,
            "overflow_x": null,
            "overflow_y": null,
            "padding": null,
            "right": null,
            "top": null,
            "visibility": null,
            "width": null
          }
        },
        "c1d86b4392874b288e7166c5be88ff29": {
          "model_module": "@jupyter-widgets/controls",
          "model_name": "SliderStyleModel",
          "model_module_version": "1.5.0",
          "state": {
            "_model_module": "@jupyter-widgets/controls",
            "_model_module_version": "1.5.0",
            "_model_name": "SliderStyleModel",
            "_view_count": null,
            "_view_module": "@jupyter-widgets/base",
            "_view_module_version": "1.2.0",
            "_view_name": "StyleView",
            "description_width": "",
            "handle_color": null
          }
        },
        "9b7b218f73784c6584e6abe30f162f31": {
          "model_module": "@jupyter-widgets/controls",
          "model_name": "FloatSliderModel",
          "model_module_version": "1.5.0",
          "state": {
            "_dom_classes": [],
            "_model_module": "@jupyter-widgets/controls",
            "_model_module_version": "1.5.0",
            "_model_name": "FloatSliderModel",
            "_view_count": null,
            "_view_module": "@jupyter-widgets/controls",
            "_view_module_version": "1.5.0",
            "_view_name": "FloatSliderView",
            "continuous_update": true,
            "description": "E(X)",
            "description_tooltip": null,
            "disabled": false,
            "layout": "IPY_MODEL_d40279c17408472e8a1aa57f36273d2d",
            "max": 3,
            "min": -3,
            "orientation": "horizontal",
            "readout": true,
            "readout_format": ".2f",
            "step": 0.1,
            "style": "IPY_MODEL_777f43e4d43c46e98b20fd3e81dd8839",
            "value": 0
          }
        },
        "d40279c17408472e8a1aa57f36273d2d": {
          "model_module": "@jupyter-widgets/base",
          "model_name": "LayoutModel",
          "model_module_version": "1.2.0",
          "state": {
            "_model_module": "@jupyter-widgets/base",
            "_model_module_version": "1.2.0",
            "_model_name": "LayoutModel",
            "_view_count": null,
            "_view_module": "@jupyter-widgets/base",
            "_view_module_version": "1.2.0",
            "_view_name": "LayoutView",
            "align_content": null,
            "align_items": null,
            "align_self": null,
            "border": null,
            "bottom": null,
            "display": null,
            "flex": null,
            "flex_flow": null,
            "grid_area": null,
            "grid_auto_columns": null,
            "grid_auto_flow": null,
            "grid_auto_rows": null,
            "grid_column": null,
            "grid_gap": null,
            "grid_row": null,
            "grid_template_areas": null,
            "grid_template_columns": null,
            "grid_template_rows": null,
            "height": null,
            "justify_content": null,
            "justify_items": null,
            "left": null,
            "margin": null,
            "max_height": null,
            "max_width": null,
            "min_height": null,
            "min_width": null,
            "object_fit": null,
            "object_position": null,
            "order": null,
            "overflow": null,
            "overflow_x": null,
            "overflow_y": null,
            "padding": null,
            "right": null,
            "top": null,
            "visibility": null,
            "width": null
          }
        },
        "777f43e4d43c46e98b20fd3e81dd8839": {
          "model_module": "@jupyter-widgets/controls",
          "model_name": "SliderStyleModel",
          "model_module_version": "1.5.0",
          "state": {
            "_model_module": "@jupyter-widgets/controls",
            "_model_module_version": "1.5.0",
            "_model_name": "SliderStyleModel",
            "_view_count": null,
            "_view_module": "@jupyter-widgets/base",
            "_view_module_version": "1.2.0",
            "_view_name": "StyleView",
            "description_width": "",
            "handle_color": null
          }
        },
        "b58a20c1c47b472d9e4882ad517070d3": {
          "model_module": "@jupyter-widgets/controls",
          "model_name": "FloatSliderModel",
          "model_module_version": "1.5.0",
          "state": {
            "_dom_classes": [],
            "_model_module": "@jupyter-widgets/controls",
            "_model_module_version": "1.5.0",
            "_model_name": "FloatSliderModel",
            "_view_count": null,
            "_view_module": "@jupyter-widgets/controls",
            "_view_module_version": "1.5.0",
            "_view_name": "FloatSliderView",
            "continuous_update": true,
            "description": "E(Y)",
            "description_tooltip": null,
            "disabled": false,
            "layout": "IPY_MODEL_e81e776531e14457b329730b77c2882a",
            "max": 3,
            "min": -3,
            "orientation": "horizontal",
            "readout": true,
            "readout_format": ".2f",
            "step": 0.1,
            "style": "IPY_MODEL_99766107b33e43d0a4df5c964113f571",
            "value": 0
          }
        },
        "e81e776531e14457b329730b77c2882a": {
          "model_module": "@jupyter-widgets/base",
          "model_name": "LayoutModel",
          "model_module_version": "1.2.0",
          "state": {
            "_model_module": "@jupyter-widgets/base",
            "_model_module_version": "1.2.0",
            "_model_name": "LayoutModel",
            "_view_count": null,
            "_view_module": "@jupyter-widgets/base",
            "_view_module_version": "1.2.0",
            "_view_name": "LayoutView",
            "align_content": null,
            "align_items": null,
            "align_self": null,
            "border": null,
            "bottom": null,
            "display": null,
            "flex": null,
            "flex_flow": null,
            "grid_area": null,
            "grid_auto_columns": null,
            "grid_auto_flow": null,
            "grid_auto_rows": null,
            "grid_column": null,
            "grid_gap": null,
            "grid_row": null,
            "grid_template_areas": null,
            "grid_template_columns": null,
            "grid_template_rows": null,
            "height": null,
            "justify_content": null,
            "justify_items": null,
            "left": null,
            "margin": null,
            "max_height": null,
            "max_width": null,
            "min_height": null,
            "min_width": null,
            "object_fit": null,
            "object_position": null,
            "order": null,
            "overflow": null,
            "overflow_x": null,
            "overflow_y": null,
            "padding": null,
            "right": null,
            "top": null,
            "visibility": null,
            "width": null
          }
        },
        "99766107b33e43d0a4df5c964113f571": {
          "model_module": "@jupyter-widgets/controls",
          "model_name": "SliderStyleModel",
          "model_module_version": "1.5.0",
          "state": {
            "_model_module": "@jupyter-widgets/controls",
            "_model_module_version": "1.5.0",
            "_model_name": "SliderStyleModel",
            "_view_count": null,
            "_view_module": "@jupyter-widgets/base",
            "_view_module_version": "1.2.0",
            "_view_name": "StyleView",
            "description_width": "",
            "handle_color": null
          }
        }
      }
    }
  },
  "cells": [
    {
      "cell_type": "markdown",
      "source": [
        "#QN2\n",
        "\n",
        "A problem was faced with modifying existing plots. To overcome it, plots and widgets are deleted and redrawn everytime the widgets are manipulated. To aid this, an additional function 'clear_output()' is imported from 'IPython.display'\n",
        "\n",
        "JAX, Matplotlib, ipywidgets are imported. "
      ],
      "metadata": {
        "id": "e5PT79cNfBCG"
      }
    },
    {
      "cell_type": "code",
      "execution_count": 75,
      "metadata": {
        "id": "LCxTrVqde9un"
      },
      "outputs": [],
      "source": [
        "import matplotlib.pyplot as plt\n",
        "import ipywidgets as widgets\n",
        "import jax\n",
        "from IPython.display import clear_output\n",
        "%matplotlib inline"
      ]
    },
    {
      "cell_type": "markdown",
      "source": [
        "Below, the plot parameters are initialized(axis limits, number of histogram bins etc..)\n"
      ],
      "metadata": {
        "id": "VqyxhaymfMrp"
      }
    },
    {
      "cell_type": "code",
      "source": [
        "global Cov, limit, instances, num_bins, samples\n",
        "limit=4.5; # X and Y axis plot limits\n",
        "instances=5000; # Number of sample instances for the scatter plot\n",
        "num_bins=16; # Number of bins for the histogram plot\n",
        "\n",
        "# Randomness for the entire code\n",
        "key = jax.random.PRNGKey(0)\n",
        "subkey, key = jax.random.split(key)"
      ],
      "metadata": {
        "id": "MXJPEM4sfD_Q"
      },
      "execution_count": 76,
      "outputs": []
    },
    {
      "cell_type": "markdown",
      "source": [
        "Mean and covariance of the bivariate gaussian is initialized to 0 and identity respectively. \n",
        "\n",
        "Then the standard bivariate gaussian is sampled"
      ],
      "metadata": {
        "id": "eeW_Qg7jgm4X"
      }
    },
    {
      "cell_type": "code",
      "source": [
        "# Initializing mean and covariance\n",
        "mean=jax.numpy.zeros([2])\n",
        "Cov=jax.numpy.zeros([2,2])\n",
        "Cov=Cov.at[0,0].set(1)\n",
        "Cov=Cov.at[1,1].set(1)\n",
        "\n",
        "samples = jax.random.multivariate_normal(subkey, jax.numpy.zeros([1,2]), Cov, (instances, )) # Sampling of standard bivariate gaussian"
      ],
      "metadata": {
        "id": "zLCiStVVgkF4"
      },
      "execution_count": 77,
      "outputs": []
    },
    {
      "cell_type": "markdown",
      "source": [
        "The below function creates all widgets. The arguments passed in order are,\n",
        "*   variance of X(inital value)\n",
        "*   covariance of X and Y(inital value)\n",
        "*   variance of Y(inital value)\n",
        "*   Limits of the covariance slider\n",
        "*   mean of X\n",
        "*   mean of Y\n",
        "\n",
        "\n",
        "There are a total of 5 FloatSliders, 3 to specify the covariance matrix, 2 to specify the means."
      ],
      "metadata": {
        "id": "CR9js0XzhhGS"
      }
    },
    {
      "cell_type": "code",
      "source": [
        "def create_slider(Exx,Exy,Eyy,Exy_limit,Ex,Ey):\n",
        "  # Creating all 5 widgets.\n",
        "  xx_slider = widgets.FloatSlider(value=Exx, min=0, max=4, step=0.1, description='Cxx')\n",
        "  xy_slider = widgets.FloatSlider(value=Exy, min=-Exy_limit, max=Exy_limit, step=0.1, description='Cxy')\n",
        "  yy_slider = widgets.FloatSlider(value=Eyy, min=0, max=4, step=0.1, description='Cyy')\n",
        "  x_slider = widgets.FloatSlider(value=Ex, min=-3, max=3, step=0.1, description='E(X)')\n",
        "  y_slider = widgets.FloatSlider(value=Ey, min=-3, max=3, step=0.1, description='E(Y)')\n",
        "\n",
        "  # Displaying all 5 widgets\n",
        "  display(xx_slider)\n",
        "  display(xy_slider)\n",
        "  display(yy_slider)\n",
        "  display(x_slider)\n",
        "  display(y_slider)\n",
        "\n",
        "  # Observing all 5 widgets\n",
        "  xx_slider.observe(xx_update, 'value')\n",
        "  xy_slider.observe(xy_update, 'value')\n",
        "  yy_slider.observe(yy_update, 'value')\n",
        "  x_slider.observe(x_update, 'value')\n",
        "  y_slider.observe(y_update, 'value')"
      ],
      "metadata": {
        "id": "ZWRxN-TRheWQ"
      },
      "execution_count": 78,
      "outputs": []
    },
    {
      "cell_type": "markdown",
      "source": [
        "This function deletes all previous outputs(including widgets) and figures and replots them. As specified before this approach was taken due to a problem involving modifying plots in existing figures"
      ],
      "metadata": {
        "id": "HV6IR7kEj-uU"
      }
    },
    {
      "cell_type": "code",
      "source": [
        "def plotter():\n",
        "  global mean, Cov, limit, instances, num_bins\n",
        "\n",
        "  # Deleting all outputs and redrawing all widgets with previous slider values.\n",
        "  clear_output(wait=True)\n",
        "  create_slider(Cov[0,0],Cov[0,1],Cov[1,1],jax.numpy.sqrt(Cov[0,0]*Cov[1,1]),mean[0],mean[1])\n",
        "  \n",
        "\n",
        "  # SETTING UP THE FIGURE HERE\n",
        "  fig=plt.figure(1)\n",
        "  ax = plt.axes(projection='3d')\n",
        "  ax.view_init(45,315) # The same view as given in the problem image\n",
        "  ax.set_xlim(-limit, limit)\n",
        "  ax.set_ylim(-limit, limit)\n",
        "  # Setting up axes ticks similar to the ones in the problem image\n",
        "  major_ticks=jax.numpy.arange(-4,4,0.1)  \n",
        "  ax.set_zticks(major_ticks)\n",
        "  ax.zaxis._axinfo[\"grid\"].update({\"linewidth\":0.3, \"which\":\"major\", \"linstyle\":\":\", \"color\":\"black\"})\n",
        "  major_ticks=jax.numpy.arange(-limit,limit+0.01,limit*2/4.5)\n",
        "  ax.set_xticks(major_ticks)\n",
        "  ax.xaxis._axinfo[\"grid\"].update({\"linewidth\":0.3, \"which\":\"major\", \"linstyle\":\":\", \"color\":\"black\"})\n",
        "  ax.set_yticks(major_ticks)\n",
        "  ax.yaxis._axinfo[\"grid\"].update({\"linewidth\":0.3, \"which\":\"major\", \"linstyle\":\":\", \"color\":\"black\"})\n",
        "\n",
        "\n",
        "  # CALCULATING AND PLOTTING THE X PDF HERE\n",
        "  points=jax.numpy.linspace(-limit,limit,100)\n",
        "  # This 'dummy' variable is used in the plot to specify the unchanging coordinate('y' in this case)\n",
        "  dummy=jax.numpy.zeros([100])+limit  \n",
        "  X_pdf=jax.numpy.multiply(points-mean[0],points-mean[0])\n",
        "  X_pdf=X_pdf/(-2*Cov[0,0])\n",
        "  X_pdf=jax.numpy.exp(X_pdf)\n",
        "  X_pdf=X_pdf/jax.numpy.sqrt(2*jax.numpy.pi*Cov[0,0])\n",
        "  X_PDF_plot, =ax.plot3D(points,dummy,X_pdf,color='blue') \n",
        "\n",
        "\n",
        "  # CALCULATING AND PLOTTING THE X PDF HERE\n",
        "  Y_pdf=jax.numpy.multiply(points-mean[1],points-mean[1])\n",
        "  Y_pdf=Y_pdf/(-2*Cov[1,1])\n",
        "  Y_pdf=jax.numpy.exp(Y_pdf)\n",
        "  Y_pdf=Y_pdf/jax.numpy.sqrt(2*jax.numpy.pi*Cov[1,1])\n",
        "  ax.plot3D(-dummy,points,Y_pdf,color='red')\n",
        "\n",
        "\n",
        "  # CALCULATING AND PLOTTING THE JOINT PDF CONTOUR HERE\n",
        "  # The approach is as follows,\n",
        "    # Create plot points of a unit circle in the xy cordinates\n",
        "    # Convert the circle into the eigen-vector basis\n",
        "    # Scale the circle cordinates by the corresponding eigen-values\n",
        "    # Recovert the circle back into the xy cordinates\n",
        "  eig_values,eig_vectors=jax.numpy.linalg.eig(Cov)\n",
        "  eig_values=jax.numpy.real(eig_values)\n",
        "  eig_vectors=jax.numpy.real(eig_vectors)  \n",
        "  eig_points=jax.numpy.zeros([2,100])\n",
        "  # Contour in eigen vector basis(variable 'eig_points')\n",
        "  eig_points=eig_points.at[0,:].set(2.5*jax.numpy.sqrt(eig_values[0])*jax.numpy.sin(jax.numpy.linspace(0,2*jax.numpy.pi,100)))\n",
        "  eig_points=eig_points.at[1,:].set(2.5*jax.numpy.sqrt(eig_values[1])*jax.numpy.cos(jax.numpy.linspace(0,2*jax.numpy.pi,100)))\n",
        "  plot_points=jax.numpy.zeros([2,100])\n",
        "  # Convert contour to xy basis(variable 'plot_points')\n",
        "  plot_points=jax.numpy.matmul(eig_vectors,eig_points)\n",
        "  dummy=jax.numpy.zeros([100])\n",
        "  plot_points=jax.numpy.real(plot_points)\n",
        "  plt.plot(plot_points[0,:]+mean[0],plot_points[1,:]+mean[1],dummy,color='cyan')\n",
        "\n",
        "\n",
        "  # PLOTTING THE SCATTERED SAMPLES HERE.\n",
        "  # The approach is as follows,\n",
        "    # The variable 'samples' contains samples of the standard bivariate gaussian\n",
        "    # Convert the samples into the eigen-vector basis\n",
        "    # Scale the samples by the corresponding eigen-values\n",
        "    # Recovert the samples back into the xy cordinates and add mean\n",
        "  samples_copy=jax.numpy.transpose(jax.numpy.matmul(jax.numpy.transpose(eig_vectors),jax.numpy.transpose(samples)))\n",
        "  samples_copy=samples_copy.at[:,0].set(samples_copy[:,0]*jax.numpy.sqrt(eig_values[0]))\n",
        "  samples_copy=samples_copy.at[:,1].set(samples_copy[:,1]*jax.numpy.sqrt(eig_values[1]))\n",
        "  samples_copy=jax.numpy.transpose(jax.numpy.matmul(eig_vectors,jax.numpy.transpose(samples_copy)))\n",
        "  samples_copy=samples_copy.at[:,0].add(mean[0])\n",
        "  samples_copy=samples_copy.at[:,1].add(mean[1])\n",
        "  dummy=jax.numpy.zeros([1,instances])\n",
        "  ax.scatter3D(samples_copy[:,0],samples_copy[:,1],dummy,color = \"black\",marker='.',s=3,alpha=0.2)\n",
        "\n",
        "\n",
        "  # PLOTTING THE X_HISTOGRAM HERE\n",
        "  # This function returns the heights and endpoints of the histogram bars\n",
        "  bars,axes=jax.numpy.histogram(samples_copy[:,0],num_bins)\n",
        "  heights=[]\n",
        "  flats=[]\n",
        "  dummy=[]\n",
        "  bars=bars/(instances*(axes[1]-axes[0]))\n",
        "  # Using the bar endpoints and heights the bars are plotted\n",
        "  for i in range(num_bins):\n",
        "    if((-limit<axes[i]<limit) & (-limit<axes[i+1]<limit)):\n",
        "      heights.extend([0,bars[i],bars[i],0])\n",
        "      flats.extend([axes[i]+0.15*(axes[1]-axes[0]),axes[i]+0.15*(axes[1]-axes[0]),axes[i+1]-0.15*(axes[1]-axes[0]),axes[i+1]-0.15*(axes[1]-axes[0])])\n",
        "      dummy.extend([limit,limit,limit,limit])\n",
        "  plt.plot(flats, dummy, heights, color='black', linewidth=0.8)\n",
        "\n",
        "\n",
        "  # PLOTTING THE Y_HISTOGRAM HERE\n",
        "  # This function returns the heights and endpoints of the histogram bars\n",
        "  bars,axes=jax.numpy.histogram(samples_copy[:,1],num_bins)\n",
        "  heights=[]\n",
        "  flats=[]\n",
        "  dummy=[]\n",
        "  bars=bars/(instances*(axes[1]-axes[0]))\n",
        "  # Using the bar endpoints and heights the bars are plotted\n",
        "  for i in range(num_bins):\n",
        "    if((-limit<axes[i]<limit) & (-limit<axes[i+1]<limit)):\n",
        "      heights.extend([0,bars[i],bars[i],0])\n",
        "      flats.extend([axes[i]+0.15*(axes[1]-axes[0]),axes[i]+0.15*(axes[1]-axes[0]),axes[i+1]-0.15*(axes[1]-axes[0]),axes[i+1]-0.15*(axes[1]-axes[0])])\n",
        "      dummy.extend([-limit,-limit,-limit,-limit])      \n",
        "  plt.plot(dummy, flats, heights, color='black', linewidth=0.8)"
      ],
      "metadata": {
        "id": "Sxn2xxyAj5Va"
      },
      "execution_count": 79,
      "outputs": []
    },
    {
      "cell_type": "markdown",
      "source": [
        "These are the widget/slider trigger functions. Each slider has an individual function. The general goal of these functions is to modify their corresponding variables(mean and covariance) and then to call upon 'plotter()' which replots the figure with the new parameter values."
      ],
      "metadata": {
        "id": "7cdSD6l73msD"
      }
    },
    {
      "cell_type": "code",
      "source": [
        "def xx_update(Exx): # Function corresponding to slider Cxx\n",
        "  global Cov\n",
        "  Cov=Cov.at[0:1,0:1].set(Exx.new)\n",
        "  plotter()\n",
        "\n",
        "def yy_update(Eyy): # Function corresponding to slider Cyy\n",
        "  global Cov\n",
        "  Cov=Cov.at[1,1].set(Eyy.new)\n",
        "  plotter()\n",
        "\n",
        "def xy_update(Exy): # Function corresponding to slider Cxy\n",
        "  global Cov\n",
        "  Cov=Cov.at[0,1].set(Exy.new)\n",
        "  Cov=Cov.at[1,0].set(Exy.new)\n",
        "  plotter()\n",
        "\n",
        "def x_update(Ex): # Function corresponding to slider Ex\n",
        "  global mean\n",
        "  mean=mean.at[0].set(Ex.new)\n",
        "  plotter()\n",
        "\n",
        "def y_update(Ey): # Function corresponding to slider Ey\n",
        "  global mean\n",
        "  mean=mean.at[1].set(Ey.new)\n",
        "  plotter()  \n",
        "\n",
        "#This is the first run-time plotter\n",
        "plotter()"
      ],
      "metadata": {
        "colab": {
          "base_uri": "https://localhost:8080/",
          "height": 400,
          "referenced_widgets": [
            "c5dad66be3c44b718af20c8d13a9d229",
            "7a3c756486954685b9445c6cb31548b4",
            "99e70b564fb8485fb93dab6b036a8bf3",
            "5d14f13fd9db4458ad1d155c1ab9e7cb",
            "9eafb3d03b2b4dc28432dede54bc04db",
            "98cd66c24e63473ba3680e8b64e407da",
            "078d058024914fdfae9720f3c31f4ef1",
            "bf904bb845cb4b02a4e09d0df5536257",
            "c1d86b4392874b288e7166c5be88ff29",
            "9b7b218f73784c6584e6abe30f162f31",
            "d40279c17408472e8a1aa57f36273d2d",
            "777f43e4d43c46e98b20fd3e81dd8839",
            "b58a20c1c47b472d9e4882ad517070d3",
            "e81e776531e14457b329730b77c2882a",
            "99766107b33e43d0a4df5c964113f571"
          ]
        },
        "id": "UNBPaTpx3fbW",
        "outputId": "cf2ca8f2-6d68-490c-e5c9-8438ef9a9c61"
      },
      "execution_count": 80,
      "outputs": [
        {
          "output_type": "display_data",
          "data": {
            "text/plain": [
              "FloatSlider(value=1.0, description='Cxx', max=4.0)"
            ],
            "application/vnd.jupyter.widget-view+json": {
              "version_major": 2,
              "version_minor": 0,
              "model_id": "c5dad66be3c44b718af20c8d13a9d229"
            }
          },
          "metadata": {}
        },
        {
          "output_type": "display_data",
          "data": {
            "text/plain": [
              "FloatSlider(value=0.0, description='Cxy', max=1.0, min=-1.0)"
            ],
            "application/vnd.jupyter.widget-view+json": {
              "version_major": 2,
              "version_minor": 0,
              "model_id": "5d14f13fd9db4458ad1d155c1ab9e7cb"
            }
          },
          "metadata": {}
        },
        {
          "output_type": "display_data",
          "data": {
            "text/plain": [
              "FloatSlider(value=1.0, description='Cyy', max=4.0)"
            ],
            "application/vnd.jupyter.widget-view+json": {
              "version_major": 2,
              "version_minor": 0,
              "model_id": "078d058024914fdfae9720f3c31f4ef1"
            }
          },
          "metadata": {}
        },
        {
          "output_type": "display_data",
          "data": {
            "text/plain": [
              "FloatSlider(value=0.0, description='E(X)', max=3.0, min=-3.0)"
            ],
            "application/vnd.jupyter.widget-view+json": {
              "version_major": 2,
              "version_minor": 0,
              "model_id": "9b7b218f73784c6584e6abe30f162f31"
            }
          },
          "metadata": {}
        },
        {
          "output_type": "display_data",
          "data": {
            "text/plain": [
              "FloatSlider(value=0.0, description='E(Y)', max=3.0, min=-3.0)"
            ],
            "application/vnd.jupyter.widget-view+json": {
              "version_major": 2,
              "version_minor": 0,
              "model_id": "b58a20c1c47b472d9e4882ad517070d3"
            }
          },
          "metadata": {}
        },
        {
          "output_type": "display_data",
          "data": {
            "text/plain": [
              "<Figure size 432x288 with 1 Axes>"
            ],
            "image/png": "[encoded data removed]"
          },
          "metadata": {
            "needs_background": "light"
          }
        }
      ]
    },
    {
      "cell_type": "markdown",
      "source": [
        "Due to problem of replotting the figure after each slider manipulation, it is better to click on the slider positions than to drag the sliders. \n",
        "\n",
        "And avoid extreme low values of Cxx and Cyy as they cause unavailability of \n",
        "samples for histrogram"
      ],
      "metadata": {
        "id": "iMtlsXqW4eMH"
      }
    }
  ]
}