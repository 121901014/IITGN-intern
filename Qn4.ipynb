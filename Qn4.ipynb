{
  "nbformat": 4,
  "nbformat_minor": 0,
  "metadata": {
    "colab": {
      "name": "Qn4.ipynb",
      "provenance": []
    },
    "kernelspec": {
      "name": "python3",
      "display_name": "Python 3"
    },
    "language_info": {
      "name": "python"
    }
  },
  "cells": [
    {
      "cell_type": "markdown",
      "source": [
        "#Qn4\n",
        "*Code takes 1-2 mins to run in free google colab*\n",
        "\n",
        "I struggled to understand BlackJAX which was also found to not be available by default in the google colab IDE. Hence I have not used blackjax and all random samplings were done through JAX alone.\n",
        "\n",
        "All randomness is based on the variable 'master_key'. Hence change 'master_key' to change output. \n",
        "\n",
        "Importing jax and matplotlib"
      ],
      "metadata": {
        "id": "wK23D13T99f5"
      }
    },
    {
      "cell_type": "code",
      "execution_count": 164,
      "metadata": {
        "id": "hunkI8HX6Q7m"
      },
      "outputs": [],
      "source": [
        "import jax\n",
        "import matplotlib.pyplot as plt\n",
        "\n",
        "# Randomness for the entire program\n",
        "master_key=7 # Decides the output change d\n",
        "key = jax.random.PRNGKey(master_key)\n",
        "subkey, key = jax.random.split(key)"
      ]
    },
    {
      "cell_type": "markdown",
      "source": [
        "#Generation of data points\n",
        "  The generation is as follows,\n",
        "*   The variable 'instances' tells the number of data_point instances\n",
        "*   Input data_points(X) are sampled uniformly in the interval $\\in\\ $\\[lower_limit , upper_limit]\n",
        "*   Noise(N) are gaussian samples with mean=0 and variance=Noise_var\n",
        "*   Given X, N the output data_points(Y) is generated as $Y=X*True\\_slope+True\\_bias+N$\n",
        "*   The variables 'True_slope', 'True_bias' are initialized by default as True_slope=0.5, True_bias=0.5\n",
        "\n"
      ],
      "metadata": {
        "id": "A9AIR27IAUY5"
      }
    },
    {
      "cell_type": "code",
      "source": [
        "instances=30; # Number of data_point instances \n",
        "\n",
        "# The data_point samples are declared global\n",
        "global X, Y, Noise_var\n",
        "\n",
        "# Limits of the input data_pints\n",
        "Lower_limit=0; \n",
        "Upper_limit=1;\n",
        "\n",
        "True_bias=1\n",
        "True_slope=1\n",
        "Noise_var=0.02\n",
        "\n",
        "# The input data_points are sampled uniformly in the interval specified by the limits\n",
        "X=jax.random.uniform(subkey, [instances], minval=Lower_limit, maxval=Upper_limit)\n",
        "subkey, key = jax.random.split(key)\n",
        "\n",
        "# Noise, 'N' is generated\n",
        "N=jax.numpy.sqrt(Noise_var) * jax.random.normal(subkey, [instances])\n",
        "subkey, key = jax.random.split(key)\n",
        "\n",
        "# Output data_points are generated as described in the text above.\n",
        "Y = True_slope*X  +True_bias + N"
      ],
      "metadata": {
        "id": "B8J78viu_Zgw"
      },
      "execution_count": 165,
      "outputs": []
    },
    {
      "cell_type": "markdown",
      "source": [
        "#Defining Posterior probability\n",
        "Based on our generation of data points, the likelihood $\\mathcal{L}(Y|X,True\\_slope,True\\_bias)=\\mathcal{N}(0,Noise\\_var)$\n",
        "\n",
        "We shall assume a non-informative uniform prior for both $True\\_slope, True\\_bias$ that allows all values in $(-\\infty,\\infty)$\n",
        "\n",
        "Note that with such a prior, the posterior becomes proportional to the likelihood. Hence to posterior probabilities can be obtained in a proportional manner by computing the likelihoods\n",
        "\n",
        "The function 'posterior()' below returns a value proportional to the posterior probability by computing the likelihood. It takes the parameter values for which the posterior is found as arguments('Est_bias' and 'Est_slope')"
      ],
      "metadata": {
        "id": "fXAQUpfkGK8h"
      }
    },
    {
      "cell_type": "code",
      "source": [
        "def posterior(Est_bias, Est_slope):\n",
        "  # Data_points and Noise variance to be read\n",
        "  global X, Y, Noise_var\n",
        "\n",
        "  # The likelihood and hence the posterior are computed in a 'proportional' manner here.\n",
        "  # The value returned is the exponential of the sum squared distances\n",
        "  sum=0\n",
        "  for i in range(jax.numpy.size(X)):\n",
        "    sum = sum-((Y[i]-X[i]*Est_slope-Est_bias) * (Y[i]-X[i]*Est_slope-Est_bias)/(2*Noise_var))\n",
        "  return jax.numpy.exp(sum)"
      ],
      "metadata": {
        "id": "z2Q_QmSFGEUe"
      },
      "execution_count": 166,
      "outputs": []
    },
    {
      "cell_type": "markdown",
      "source": [
        "#Plotting the posterior distribution\n",
        "We shall plot the posterior distribution. To do this, The posterior distribution is sampled at uniform intervals of parameter values by the code below. The variable 'No_of_posterior_points' tells the number of samples of the posterior PDF along each parameter axis.\n",
        "\n",
        "(Do note that the posterior probability values obtained are not the exact values but 'proportional' ones that are scaled by some factor. But they would suffice for plotting)\n",
        "\n",
        "We also find the parameter values that correspond to the highest posterior(Bias_prediction, Slope_prediction). Since the posterior is directly proportional to the likelihood in our case, the same parameter values also maximise the likelihood. Hence those parameter values are the Maximum likelihood solutions and the same as the linear regression solutions."
      ],
      "metadata": {
        "id": "0D9WJ9yWVNb2"
      }
    },
    {
      "cell_type": "code",
      "source": [
        "# Number of samples of the posterior along each parameter axis\n",
        "No_of_posterior_points=20\n",
        "\n",
        "# Parameter limits of the posterior distribution plot\n",
        "lower_limit=0.75\n",
        "upper_limit=1.25\n",
        "\n",
        "# This variable stores the posterior values at the sample positions\n",
        "Posterior_values = jax.numpy.zeros([No_of_posterior_points, No_of_posterior_points])\n",
        "# This variable stores the bias values at the sample positions\n",
        "Bias_points = jax.numpy.zeros([No_of_posterior_points, No_of_posterior_points])\n",
        "# This variable stores the slope values at the sample positions\n",
        "Slope_points = jax.numpy.zeros([No_of_posterior_points, No_of_posterior_points])\n",
        "\n",
        "# SAMPLING THE POSTERIOR HERE\n",
        "Current_posterior_max=-1\n",
        "for i in range(No_of_posterior_points): # This loop changes bias values\n",
        "  for j in range(No_of_posterior_points): # This loop changes slope values\n",
        "\n",
        "    Bias_points = Bias_points.at[i,j].set(lower_limit + (upper_limit-lower_limit)*i/(No_of_posterior_points-1) )\n",
        "    Slope_points = Slope_points.at[i,j].set(lower_limit + (upper_limit-lower_limit)*j/(No_of_posterior_points-1) )    \n",
        "    Posterior_values = Posterior_values.at[i,j].set(posterior(Bias_points[i,j], Slope_points[i,j]))\n",
        "\n",
        "    # Find the highest posterior value and the corresponding parameter values\n",
        "    if(Posterior_values[i,j] > Current_posterior_max):\n",
        "      Current_posterior_max = Posterior_values[i,j]\n",
        "      Bias_prediction = Bias_points[i,j]\n",
        "      Slope_prediction = Slope_points[i,j]\n",
        "\n",
        "# Plotting the sampled posterior here as a color map\n",
        "fig, ax = plt.subplots()\n",
        "ax.pcolormesh(Bias_points, Slope_points, Posterior_values)\n",
        "ax.scatter(True_bias, True_slope, s=40, c='white', marker='x', label='True parameter values')\n",
        "ax.scatter(Bias_prediction, Slope_prediction, s=20, c='red', label='Best parameter fit')\n",
        "plt.title(\"Posterior magnitude plot\")\n",
        "plt.xlabel(\"Bias\")\n",
        "plt.ylabel(\"Slope\")\n",
        "plt.legend();"
      ],
      "metadata": {
        "colab": {
          "base_uri": "https://localhost:8080/",
          "height": 295
        },
        "id": "rY5SmygHVAZI",
        "outputId": "1fe8587d-ff01-4e39-fd03-e65e959d6cfa"
      },
      "execution_count": 167,
      "outputs": [
        {
          "output_type": "display_data",
          "data": {
            "text/plain": [
              "<Figure size 432x288 with 1 Axes>"
            ],
            "image/png": "[encoded data removed]"
          },
          "metadata": {
            "needs_background": "light"
          }
        }
      ]
    },
    {
      "cell_type": "markdown",
      "source": [
        "Notice how the posterior signifies that when bias decreases after the mean, slope must increase and vice-verse for a good fit. This makes sense as this ensures that the linear fit always crosses the mean of the data_points."
      ],
      "metadata": {
        "id": "I6xYhOx_tnOQ"
      }
    },
    {
      "cell_type": "markdown",
      "source": [
        "#Finding Posterior CDF from the sampled posterior PDF\n",
        "Here we obtain the CDF of the posterior from the sampled approximate version of posterior PDF(Posterior_values). We do this because we shall sample the posterior later and sampling through the CDF is easier than sampling through the PDF. \n",
        "\n",
        "Our CDF is not a traditional CDF but a CDF defined as such, $$CDF(bias_{i},slope_{j})=\\sum_{k=1}^{k=i-1}\\sum_{l}PDF(bias_{k},slope_{l})+\\sum_{l=1}^{l=j}PDF(bias_{i},slope_{l})$$\n",
        "\n",
        "Note that our posterior PDF and CDF are both histogramic versions of their true counterparts due to sampling."
      ],
      "metadata": {
        "id": "EWPzMz5Javzj"
      }
    },
    {
      "cell_type": "code",
      "source": [
        "# Normalizing the posterior PDF\n",
        "Posterior_values = Posterior_values/jax.numpy.sum(Posterior_values)\n",
        "\n",
        "# Initializing the posterior CDF\n",
        "Posterior_CDF = jax.numpy.zeros([No_of_posterior_points,No_of_posterior_points])\n",
        "\n",
        "# Creating the approximate posterior CDF from the sampled PDF\n",
        "sum=0\n",
        "for i in range(No_of_posterior_points):\n",
        "  for j in range(No_of_posterior_points):\n",
        "    sum = sum+Posterior_values[i,j];\n",
        "    Posterior_CDF = Posterior_CDF.at[i,j].set(sum)"
      ],
      "metadata": {
        "id": "GJ6y3SrCZz-7"
      },
      "execution_count": 168,
      "outputs": []
    },
    {
      "cell_type": "markdown",
      "source": [
        "#Sampling posterior\n",
        "Here we sample the posterior distribution for parameter values. The sampling is done as follow,\n",
        "\n",
        "\n",
        "*   Create samples of a uniform random variable\n",
        "*   Map the unifrom random variable samples through our approximate, sampled versions of posterior CDF.\n",
        "\n",
        "The sampling process is just the CDF mapping that converts uniform random variable samples to samples of the posterior distribution\n",
        "\n",
        "The given problem was to plot 2 standard deviations around the predictive mean. This requires finding the standard deviation from the posterior distribution which is complicated. \n",
        "\n",
        "Hence this was not done but rather, we sample the posterior 18 times and then plots those samples. The spread of those posterior samples around the predictive mean will give a general idea of 2 standard devations around the mean. Note that '18' was chosen because 2 standard deviation corresponds to 95% probability and $0.95^{18}\\approx0.4$, which implies that with probability $0.6$ atleast one of of samples will cross the 2 std mark. Hence 18 samples was found to be 'good-enough' to show 2 standard deviations."
      ],
      "metadata": {
        "id": "VyZ00thUJHqT"
      }
    },
    {
      "cell_type": "code",
      "source": [
        "No_of_parameter_samples=18; # Number of posterior samples\n",
        "plot_points=jax.numpy.linspace(Lower_limit, Upper_limit, 100) # Plotting points range\n",
        "fig, ax = plt.subplots()\n",
        "\n",
        "for instance in range(No_of_parameter_samples):\n",
        "  # Sampling the uniform random variable\n",
        "  CDF_value = jax.random.uniform(subkey, [1], minval=0, maxval=1)\n",
        "  subkey, key = jax.random.split(key)\n",
        "\n",
        "  # Converting the uniform random variable samples to posterior samples\n",
        "  found=0\n",
        "  for i in range(No_of_posterior_points):\n",
        "    for j in range(No_of_posterior_points):\n",
        "      if(Posterior_CDF[i,j] > CDF_value):\n",
        "        found=1;\n",
        "        Bias_sample = Bias_points[i,j];\n",
        "        Slope_sample = Slope_points[i,j];\n",
        "        break\n",
        "    if(found == 1):\n",
        "        break\n",
        "  \n",
        "  # Plotting the posterior samples\n",
        "  ax.plot(plot_points, Bias_sample+(Slope_sample*plot_points), color=\"orange\", linewidth=5, alpha=0.15)\n",
        "ax.plot(plot_points, Bias_sample+(Slope_sample*plot_points), color=\"orange\", linewidth=5, alpha=0.15, label='Posterior_samples')  \n",
        "\n",
        "# Plotting the predictive mean(ML on parameters)\n",
        "ax.plot(plot_points, Bias_prediction+Slope_prediction*plot_points, color=\"black\", linewidth=2, label='Predictive mean')\n",
        "\n",
        "# Plotting the data points\n",
        "plt.scatter(X, Y, s=10, label='Data_points')\n",
        "plt.legend()\n",
        "plt.title(\"Data_point fitting\")\n",
        "plt.xlabel(\"X\")\n",
        "plt.ylabel(\"Y\");"
      ],
      "metadata": {
        "colab": {
          "base_uri": "https://localhost:8080/",
          "height": 295
        },
        "id": "eSXYxqt5dDVs",
        "outputId": "0f668da0-59a8-4211-be6f-b5f3a16314d0"
      },
      "execution_count": 169,
      "outputs": [
        {
          "output_type": "display_data",
          "data": {
            "text/plain": [
              "<Figure size 432x288 with 1 Axes>"
            ],
            "image/png": "[encoded data removed]"
          },
          "metadata": {
            "needs_background": "light"
          }
        }
      ]
    },
    {
      "cell_type": "markdown",
      "source": [
        "Notice how all the sample bind together at the mean of the data points and spread out at the edges. This was also reflected in our posterior pdf which said that when bias increases about the mean, slope must decrease and vice versa."
      ],
      "metadata": {
        "id": "FEMKZDm4jJHv"
      }
    }
  ]
}