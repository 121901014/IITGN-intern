{
  "cells": [
    {
      "cell_type": "markdown",
      "source": [
        "#QN1\n",
        "*Unmodified code takes 1 min to run in free google collab*"
      ],
      "metadata": {
        "id": "iDbSbriNZi2X"
      }
    },
    {
      "cell_type": "markdown",
      "source": [
        "The 'master_key' variable provides the required randomness for the entire code. Change 'master_key' to change output"
      ],
      "metadata": {
        "id": "hLhqSjjqcKPN"
      }
    },
    {
      "cell_type": "code",
      "execution_count": 1,
      "metadata": {
        "id": "65pY01qMYrl3",
        "colab": {
          "base_uri": "https://localhost:8080/"
        },
        "outputId": "3056f279-920d-4f46-dc89-cf6c85761c50"
      },
      "outputs": [
        {
          "output_type": "stream",
          "name": "stderr",
          "text": [
            "WARNING:absl:No GPU/TPU found, falling back to CPU. (Set TF_CPP_MIN_LOG_LEVEL=0 and rerun for more info.)\n"
          ]
        }
      ],
      "source": [
        "# JAX is imported\n",
        "import jax\n",
        "\n",
        "# Randomness for the entire program\n",
        "master_key = 20;\n",
        "key = jax.random.PRNGKey(master_key)\n",
        "subkey, key = jax.random.split(key)"
      ]
    },
    {
      "cell_type": "markdown",
      "source": [
        "Variable 'dimension' specifies the dimension of the multivariate gaussian.\n",
        "\n",
        "Variable 'instances' specifies the number of sample instances that we take from the specified multivariate gaussian distribution\n",
        "\n",
        "The Covariance and mean of our multivariate gaussian are randomly generated.\n"
      ],
      "metadata": {
        "id": "Hn-Y460jdigY"
      }
    },
    {
      "cell_type": "code",
      "source": [
        "dimension=10 # dimension of multivariate gaussian\n",
        "instances=1000 # Number of sampling instances \n",
        "\n",
        "# Creating random covariance matrix as AA' (to gaurantee positivity of covariance)\n",
        "A = jax.random.uniform(subkey, [dimension, dimension])\n",
        "subkey, key = jax.random.split(key)\n",
        "True_cov = jax.numpy.matmul(A, jax.numpy.transpose(A)) # Cov=A*A'\n",
        "\n",
        "# Creating random mean\n",
        "True_mean = jax.random.uniform(subkey, [dimension,1])\n",
        "subkey, key = jax.random.split(key)"
      ],
      "metadata": {
        "id": "tzEyaOn1dguu"
      },
      "execution_count": 2,
      "outputs": []
    },
    {
      "cell_type": "markdown",
      "source": [
        "Initialize variables to store the estimates of mean and covariance calculated from sampled data"
      ],
      "metadata": {
        "id": "6T_QunPSfDAS"
      }
    },
    {
      "cell_type": "code",
      "source": [
        "Est_mean = jax.numpy.zeros([dimension, 1]) # to store mean estimate\n",
        "Est_cov = jax.numpy.zeros([dimension, dimension]) # to store covariance estimate\n",
        "Gaussian_samples_save = jax.numpy.zeros([dimension, instances]) # to store covariance estimate"
      ],
      "metadata": {
        "id": "KyRbQ1FRYUja"
      },
      "execution_count": 3,
      "outputs": []
    },
    {
      "cell_type": "markdown",
      "source": [
        "Next we sample our specified multivariate gaussian. The approach is as follows,\n",
        "\n",
        "*   First sample a uniform distribution of dimension 10\n",
        "*   Pass the uniform random variable samples through the CDF of a standard multivariate gaussian of dimension 10. This is just the CDF to CDF mapping that converts the uniform random variable samples to gaussian samples. Qfunc inverse(gaussian CDF inverse) was not found in JAX, hence the alternative and similar error function is used to map the samples.\n",
        "*   Multiply the obtained standard gaussian samples of dimension '10' by the matrix 'A' to convert the standard gaussian samples to gaussian samples of the specified covariance. Remember that the true covariance was calculated as AA'.\n",
        "*   Add the mean to the obtained samples\n",
        "*   Repeat this process for all instances"
      ],
      "metadata": {
        "id": "TTNE5yO-fhnI"
      }
    },
    {
      "cell_type": "code",
      "source": [
        "for ins in range(instances):\n",
        "  Uniform_samples = jax.random.uniform(subkey, [dimension,1]) # Sampling the uniform distribution\n",
        "  subkey, key = jax.random.split(key)\n",
        "\n",
        "  Gaussian_samples = jax.numpy.zeros([dimension,1]) # Initializing the gaussian samples\n",
        "\n",
        "  # This for loop converts the uniform samples to standard gaussian samples of given dimension\n",
        "  # The mapping of uniform samples to gaussian samples is done through their CDFs\n",
        "  for i in range(dimension):\n",
        "    if(Uniform_samples[i,1] < 0.5):\n",
        "      Gaussian_samples = Gaussian_samples.at[i,0].set(-jax.numpy.sqrt(2) * jax.scipy.special.erfinv(2*Uniform_samples[i,1]) )\n",
        "    else:\n",
        "      Gaussian_samples = Gaussian_samples.at[i,0].set(jax.numpy.sqrt(2) * jax.scipy.special.erfinv(2*Uniform_samples[i,1]-1) )\n",
        "\n",
        "\n",
        "  # Convert the standard gaussian samples to samples of given mean and covariance\n",
        "  Gaussian_samples = True_mean + jax.numpy.matmul(A, Gaussian_samples);\n",
        "\n",
        "  # Save the samples for later to calculate the sample mean and covariance\n",
        "  Gaussian_samples_save = Gaussian_samples_save.at[:, ins:ins+1].set(Gaussian_samples)"
      ],
      "metadata": {
        "id": "Ap0Eb1pofcwR"
      },
      "execution_count": 4,
      "outputs": []
    },
    {
      "cell_type": "markdown",
      "source": [
        "After sampling, the parameters are calculated back from the samples, $S_i$'s as ,\n",
        "\n",
        "Sample mean, $E(s)=\\frac{\\sum_{i} S_i}{N}$\n",
        "\n",
        "Sample covariance=$\\frac{\\sum_{i} \\Big((S_i-E(s)) (S_i-E(s))^T\\Big)}{N-1}$"
      ],
      "metadata": {
        "id": "6ZH93NyI-G9O"
      }
    },
    {
      "cell_type": "code",
      "source": [
        "# Sample mean is calculated here\n",
        "Est_mean = jax.numpy.zeros([dimension,1])\n",
        "Est_mean = Est_mean.at[:,0].set(jax.numpy.sum(Gaussian_samples_save, 1) / instances)\n",
        "\n",
        "# Sample covariance is calculated here\n",
        "for ins in range(instances):\n",
        "  Est_cov = Est_cov + jax.numpy.matmul( Gaussian_samples_save[:,ins:ins+1]-Est_mean, jax.numpy.transpose(Gaussian_samples_save[:,ins:ins+1]-Est_mean) )\n",
        "\n",
        "Est_cov = Est_cov / (instances-1)"
      ],
      "metadata": {
        "id": "66DP_IRy-FrC"
      },
      "execution_count": 5,
      "outputs": []
    },
    {
      "cell_type": "markdown",
      "source": [
        "Finally the true parameter values, estimated parameter values and their differences are displayed in same order"
      ],
      "metadata": {
        "id": "AXDKQlh7ADzp"
      }
    },
    {
      "cell_type": "code",
      "source": [
        "# Printing true values\n",
        "print(\"True mean\")\n",
        "print(True_mean)\n",
        "print(\"\\nTrue Covariance\")\n",
        "print(True_cov)\n",
        "\n",
        "# Printing estimated values\n",
        "print(\"\\n\\nEst mean\")\n",
        "print(Est_mean)\n",
        "print(\"\\nEst Covariance\")\n",
        "print(Est_cov)\n",
        "\n",
        "# Printing differences\n",
        "print(\"\\n\\nTrue mean - Est mean\")\n",
        "print(True_mean - Est_mean)\n",
        "print(\"\\nTrue Covariance - Est Covariance\")\n",
        "print(True_cov - Est_cov)"
      ],
      "metadata": {
        "colab": {
          "base_uri": "https://localhost:8080/"
        },
        "id": "PjfUhT2QACQ7",
        "outputId": "4c6767b3-480d-4020-b04d-044de0383d86"
      },
      "execution_count": 6,
      "outputs": [
        {
          "output_type": "stream",
          "name": "stdout",
          "text": [
            "True mean\n",
            "[[0.05800748]\n",
            " [0.26793325]\n",
            " [0.998407  ]\n",
            " [0.69090223]\n",
            " [0.59423995]\n",
            " [0.3626442 ]\n",
            " [0.36861145]\n",
            " [0.99709284]\n",
            " [0.6963452 ]\n",
            " [0.44293797]]\n",
            "\n",
            "True Covariance\n",
            "[[1.8399405 1.3392221 1.564645  2.4566624 1.249694  2.107464  1.7751497\n",
            "  1.8875052 1.6365731 2.4960427]\n",
            " [1.3392221 2.50501   1.5026025 2.3401546 2.2614415 2.1456811 1.5607216\n",
            "  2.3542547 1.5120171 2.140727 ]\n",
            " [1.564645  1.5026025 2.7307885 2.4518714 2.0720088 3.019265  2.3068993\n",
            "  2.5066159 2.4883673 2.7407084]\n",
            " [2.4566624 2.3401546 2.4518714 4.894763  2.6920557 4.011526  3.1403604\n",
            "  3.2589016 2.9205432 3.9793098]\n",
            " [1.249694  2.2614415 2.0720088 2.6920557 3.5932405 3.127026  1.6811109\n",
            "  2.6638625 2.4867241 2.620227 ]\n",
            " [2.107464  2.1456811 3.019265  4.011526  3.127026  4.9752345 2.6989992\n",
            "  2.9629798 3.2046342 4.010004 ]\n",
            " [1.7751497 1.5607216 2.3068993 3.1403604 1.6811109 2.6989992 3.118404\n",
            "  2.7301116 2.7383723 2.6447108]\n",
            " [1.8875052 2.3542547 2.5066159 3.2589016 2.6638625 2.9629798 2.7301116\n",
            "  3.7282097 2.6469927 2.7527804]\n",
            " [1.6365731 1.5120171 2.4883673 2.9205432 2.4867241 3.2046342 2.7383723\n",
            "  2.6469927 3.3193724 2.582727 ]\n",
            " [2.4960427 2.140727  2.7407084 3.9793098 2.620227  4.010004  2.6447108\n",
            "  2.7527804 2.582727  4.580174 ]]\n",
            "\n",
            "\n",
            "Est mean\n",
            "[[0.0695872 ]\n",
            " [0.30068523]\n",
            " [1.0382558 ]\n",
            " [0.7287096 ]\n",
            " [0.58889073]\n",
            " [0.40043968]\n",
            " [0.47200322]\n",
            " [1.0447702 ]\n",
            " [0.79995924]\n",
            " [0.4149447 ]]\n",
            "\n",
            "Est Covariance\n",
            "[[1.7340049 1.2123243 1.5043893 2.3116925 1.1643337 1.9896855 1.7338636\n",
            "  1.8044267 1.6380483 2.281699 ]\n",
            " [1.2123243 2.4770951 1.4874636 2.1575747 2.2320924 2.0632455 1.4708197\n",
            "  2.2480657 1.4822854 1.9372128]\n",
            " [1.5043893 1.4874636 2.6322033 2.324332  2.0365756 2.8572416 2.206847\n",
            "  2.4580045 2.4128454 2.5919702]\n",
            " [2.3116925 2.1575747 2.324332  4.7113347 2.507199  3.7954526 3.0600092\n",
            "  3.0806205 2.8646052 3.6966534]\n",
            " [1.1643337 2.2320924 2.0365756 2.507199  3.448272  2.9580877 1.5973173\n",
            "  2.583162  2.3919027 2.4073124]\n",
            " [1.9896855 2.0632455 2.8572416 3.7954526 2.9580877 4.6840315 2.5503469\n",
            "  2.8247652 3.0605443 3.6851997]\n",
            " [1.7338636 1.4708197 2.206847  3.0600092 1.5973173 2.5503469 3.0835998\n",
            "  2.683588  2.736008  2.5037086]\n",
            " [1.8044267 2.2480657 2.4580045 3.0806205 2.583162  2.8247652 2.683588\n",
            "  3.5894856 2.667906  2.5767412]\n",
            " [1.6380483 1.4822854 2.4128454 2.8646052 2.3919027 3.0605443 2.736008\n",
            "  2.667906  3.3101962 2.4729755]\n",
            " [2.281699  1.9372128 2.5919702 3.6966534 2.4073124 3.6851997 2.5037086\n",
            "  2.5767412 2.4729755 4.141379 ]]\n",
            "\n",
            "\n",
            "True mean - Est mean\n",
            "[[-0.01157972]\n",
            " [-0.03275198]\n",
            " [-0.0398488 ]\n",
            " [-0.03780735]\n",
            " [ 0.00534922]\n",
            " [-0.03779548]\n",
            " [-0.10339177]\n",
            " [-0.0476774 ]\n",
            " [-0.10361403]\n",
            " [ 0.02799326]]\n",
            "\n",
            "True Covariance - Est Covariance\n",
            "[[ 0.10593569  0.12689781  0.06025577  0.14496994  0.08536029  0.11777854\n",
            "   0.04128611  0.0830785  -0.00147521  0.21434379]\n",
            " [ 0.12689781  0.02791476  0.01513886  0.18258     0.02934909  0.08243561\n",
            "   0.08990192  0.10618901  0.02973175  0.20351422]\n",
            " [ 0.06025577  0.01513886  0.09858513  0.1275394   0.03543329  0.1620233\n",
            "   0.10005236  0.0486114   0.07552195  0.14873815]\n",
            " [ 0.14496994  0.18258     0.1275394   0.18342829  0.18485665  0.21607351\n",
            "   0.08035111  0.17828107  0.05593801  0.28265643]\n",
            " [ 0.08536029  0.02934909  0.03543329  0.18485665  0.14496851  0.1689384\n",
            "   0.08379352  0.0807004   0.09482145  0.2129147 ]\n",
            " [ 0.11777854  0.08243561  0.1620233   0.21607351  0.1689384   0.29120302\n",
            "   0.14865232  0.13821459  0.14408994  0.3248043 ]\n",
            " [ 0.04128611  0.08990192  0.10005236  0.08035111  0.08379352  0.14865232\n",
            "   0.03480411  0.04652357  0.0023644   0.14100218]\n",
            " [ 0.0830785   0.10618901  0.0486114   0.17828107  0.0807004   0.13821459\n",
            "   0.04652357  0.13872409 -0.02091336  0.17603922]\n",
            " [-0.00147521  0.02973175  0.07552195  0.05593801  0.09482145  0.14408994\n",
            "   0.0023644  -0.02091336  0.00917625  0.10975146]\n",
            " [ 0.21434379  0.20351422  0.14873815  0.28265643  0.2129147   0.3248043\n",
            "   0.14100218  0.17603922  0.10975146  0.4387951 ]]\n"
          ]
        }
      ]
    }
  ],
  "metadata": {
    "colab": {
      "collapsed_sections": [],
      "name": "Qn1.ipynb",
      "provenance": []
    },
    "kernelspec": {
      "display_name": "Python 3",
      "name": "python3"
    },
    "language_info": {
      "name": "python"
    }
  },
  "nbformat": 4,
  "nbformat_minor": 0
}